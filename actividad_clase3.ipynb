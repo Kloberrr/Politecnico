{
 "cells": [
  {
   "cell_type": "markdown",
   "metadata": {},
   "source": [
    "<h1>Ejercicio de clase 3</h1>"
   ]
  },
  {
   "cell_type": "markdown",
   "metadata": {},
   "source": [
    "<h3>Datos Simples</h3"
   ]
  },
  {
   "cell_type": "markdown",
   "metadata": {},
   "source": [
    "<h4>Creamos lista de ciudades</h4>"
   ]
  },
  {
   "cell_type": "code",
   "execution_count": 2,
   "metadata": {},
   "outputs": [
    {
     "name": "stdout",
     "output_type": "stream",
     "text": [
      "['Nueva York', 'Tokio', 'Londres', 'París', 'Los Ángeles', 'Sídney']\n"
     ]
    }
   ],
   "source": [
    "ciudades = [\n",
    "    \"Nueva York\",\n",
    "    \"Tokio\",\n",
    "    \"Londres\",\n",
    "    \"París\",\n",
    "    \"Los Ángeles\",\n",
    "    \"Sídney\"\n",
    "]"
   ]
  },
  {
   "cell_type": "markdown",
   "metadata": {},
   "source": [
    "<h4>Creamos lista de empleados</h4>"
   ]
  },
  {
   "cell_type": "code",
   "execution_count": 3,
   "metadata": {},
   "outputs": [
    {
     "name": "stdout",
     "output_type": "stream",
     "text": [
      "[{'nombre': 'Juan', 'cargo': 'Gerente', 'salario': 50000}, {'nombre': 'María', 'cargo': 'Analista de Datos', 'salario': 40000}, {'nombre': 'Pedro', 'cargo': 'Desarrollador', 'salario': 45000}, {'nombre': 'Ana', 'cargo': 'Diseñadora Gráfica', 'salario': 38000}]\n"
     ]
    }
   ],
   "source": [
    "empleados = [\n",
    "    {\"nombre\": \"Juan\", \"cargo\": \"Gerente\", \"salario\": 50000},\n",
    "    {\"nombre\": \"María\", \"cargo\": \"Analista de Datos\", \"salario\": 40000},\n",
    "    {\"nombre\": \"Pedro\", \"cargo\": \"Desarrollador\", \"salario\": 45000},\n",
    "    {\"nombre\": \"Ana\", \"cargo\": \"Diseñadora Gráfica\", \"salario\": 38000}\n",
    "]\n"
   ]
  },
  {
   "cell_type": "markdown",
   "metadata": {},
   "source": [
    "<h4>Mostramos como acceder a un elemento de la lista y a uno del diccionario</h4>\n",
    "<h5>Primero mostramos al segundo empleado(todos sus datos)</h5>"
   ]
  },
  {
   "cell_type": "code",
   "execution_count": 4,
   "metadata": {},
   "outputs": [
    {
     "name": "stdout",
     "output_type": "stream",
     "text": [
      "{'nombre': 'María', 'cargo': 'Analista de Datos', 'salario': 40000}\n"
     ]
    }
   ],
   "source": [
    "print(empleados[1])"
   ]
  },
  {
   "cell_type": "markdown",
   "metadata": {},
   "source": [
    "<h5>ahora mostraremos solo el nombre y su salario</h5>"
   ]
  },
  {
   "cell_type": "code",
   "execution_count": 7,
   "metadata": {},
   "outputs": [
    {
     "name": "stdout",
     "output_type": "stream",
     "text": [
      "María\n",
      "40000\n"
     ]
    }
   ],
   "source": [
    "print(empleados[1][\"nombre\"])\n",
    "print(empleados[1][\"salario\"])"
   ]
  },
  {
   "cell_type": "markdown",
   "metadata": {},
   "source": [
    "<h2>Manipulación de Listas y Métodos:</h2>\n",
    "<h4>Crea una lista inicial de números enteros.</h4>"
   ]
  },
  {
   "cell_type": "code",
   "execution_count": 8,
   "metadata": {},
   "outputs": [],
   "source": [
    "numeros_enteros = [5, 10, 15, 20, 25, 30]"
   ]
  },
  {
   "cell_type": "markdown",
   "metadata": {},
   "source": [
    "<h4>Utiliza el método .append() para agregar un número al final de la lista.\n",
    "</h4>"
   ]
  },
  {
   "cell_type": "code",
   "execution_count": 2,
   "metadata": {},
   "outputs": [
    {
     "name": "stdout",
     "output_type": "stream",
     "text": [
      "[5, 10, 15, 20, 25, 30, 35]\n"
     ]
    }
   ],
   "source": [
    "numeros_enteros = [5, 10, 15, 20, 25, 30]\n",
    "numeros_enteros.append(35)\n",
    "print(numeros_enteros)\n"
   ]
  },
  {
   "cell_type": "markdown",
   "metadata": {},
   "source": [
    "<h4>Utiliza el método .extend() para agregar múltiples elementos a la lista.\n",
    "</h4>"
   ]
  },
  {
   "cell_type": "code",
   "execution_count": 3,
   "metadata": {},
   "outputs": [
    {
     "name": "stdout",
     "output_type": "stream",
     "text": [
      "[5, 10, 15, 20, 25, 30, 35, 40, 45]\n"
     ]
    }
   ],
   "source": [
    "numeros_enteros = [5, 10, 15, 20, 25, 30]\n",
    "numeros_nuevos = [35, 40, 45]\n",
    "numeros_enteros.extend(numeros_nuevos)\n",
    "print(numeros_enteros)\n"
   ]
  },
  {
   "cell_type": "markdown",
   "metadata": {},
   "source": [
    "<h4>Utiliza el método .insert() para insertar un número en una posición específica de la lista.\n",
    "</h4>"
   ]
  },
  {
   "cell_type": "code",
   "execution_count": 4,
   "metadata": {},
   "outputs": [
    {
     "name": "stdout",
     "output_type": "stream",
     "text": [
      "[5, 8, 10, 15, 20, 25, 30]\n"
     ]
    }
   ],
   "source": [
    "numeros_enteros = [5, 10, 15, 20, 25, 30]\n",
    "numeros_enteros.insert(1, 8)\n",
    "print(numeros_enteros)\n"
   ]
  },
  {
   "cell_type": "markdown",
   "metadata": {},
   "source": [
    "<h4>Muestra cómo utilizar el método .sort() para ordenar la lista de números de forma ascendente.\n",
    "</h4>"
   ]
  },
  {
   "cell_type": "code",
   "execution_count": 5,
   "metadata": {},
   "outputs": [
    {
     "name": "stdout",
     "output_type": "stream",
     "text": [
      "[5, 10, 15, 20, 25, 30]\n"
     ]
    }
   ],
   "source": [
    "numeros_enteros = [30, 10, 20, 5, 25, 15]\n",
    "numeros_enteros.sort()\n",
    "print(numeros_enteros)\n"
   ]
  },
  {
   "cell_type": "markdown",
   "metadata": {},
   "source": [
    "<h2>Manipulación de Diccionarios y Métodos:\n",
    "</h2>\n",
    "\n",
    "<h4>Crea un diccionario con información de productos (nombre del producto, precio, cantidad en stock).</h4>"
   ]
  },
  {
   "cell_type": "code",
   "execution_count": 6,
   "metadata": {},
   "outputs": [
    {
     "name": "stdout",
     "output_type": "stream",
     "text": [
      "{'producto1': {'nombre': 'Remera', 'precio': 20.99, 'stock': 50}, 'producto2': {'nombre': 'Pantalón', 'precio': 39.99, 'stock': 30}, 'producto3': {'nombre': 'Zapatillas', 'precio': 59.99, 'stock': 20}}\n"
     ]
    }
   ],
   "source": [
    "productos = {\n",
    "    \"producto1\": {\"nombre\": \"Remera\", \"precio\": 20.99, \"stock\": 50},\n",
    "    \"producto2\": {\"nombre\": \"Pantalón\", \"precio\": 39.99, \"stock\": 30},\n",
    "    \"producto3\": {\"nombre\": \"Zapatillas\", \"precio\": 59.99, \"stock\": 20}\n",
    "}\n",
    "\n",
    "print(productos)\n"
   ]
  },
  {
   "cell_type": "markdown",
   "metadata": {},
   "source": [
    "<h4>Utiliza el método .keys() para obtener una lista de las llaves (nombres de productos) en el diccionario.</h4>"
   ]
  },
  {
   "cell_type": "code",
   "execution_count": 7,
   "metadata": {},
   "outputs": [
    {
     "name": "stdout",
     "output_type": "stream",
     "text": [
      "['producto1', 'producto2', 'producto3']\n"
     ]
    }
   ],
   "source": [
    "productos = {\n",
    "    \"producto1\": {\"nombre\": \"Remera\", \"precio\": 20.99, \"stock\": 50},\n",
    "    \"producto2\": {\"nombre\": \"Pantalón\", \"precio\": 39.99, \"stock\": 30},\n",
    "    \"producto3\": {\"nombre\": \"Zapatillas\", \"precio\": 59.99, \"stock\": 20}\n",
    "}\n",
    "nombres_productos = list(productos.keys())\n",
    "print(nombres_productos)\n"
   ]
  }
 ],
 "metadata": {
  "kernelspec": {
   "display_name": "Python 3",
   "language": "python",
   "name": "python3"
  },
  "language_info": {
   "codemirror_mode": {
    "name": "ipython",
    "version": 3
   },
   "file_extension": ".py",
   "mimetype": "text/x-python",
   "name": "python",
   "nbconvert_exporter": "python",
   "pygments_lexer": "ipython3",
   "version": "3.12.2"
  }
 },
 "nbformat": 4,
 "nbformat_minor": 2
}
